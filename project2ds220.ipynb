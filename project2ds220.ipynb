{
  "cells": [
    {
      "cell_type": "markdown",
      "metadata": {
        "id": "I_nv22g9bv4M"
      },
      "source": [
        "Team Members: William Bolder, Jongin Choi, Gianna Delorenzo, Naman Joshi, Ryan Kaye, and Darren Zhu  \n",
        "Course: DS 220   \n",
        "Instructor: Professor Fonkam  \n",
        "Date: December 7, 2023\n",
        "# Rental Data Analysis of US Cities  \n",
        "## **Introduction**\n",
        "This project aims to analyze a real estate data set consisting of rent prices for major US cities between January 2015 to October 2023. The data set includes information on the Region Name (city), State, County Name, rent, etc. This data set was obtained from https://www.zillow.com/research/data/.  \n",
        "First, we will import pandas and load the rental data"
      ],
      "id": "I_nv22g9bv4M"
    },
    {
      "cell_type": "code",
      "execution_count": null,
      "metadata": {
        "id": "8kHGwg5Obv4P"
      },
      "outputs": [],
      "source": [
        "import pandas as pd\n",
        "import matplotlib.pyplot as plt\n",
        "\n",
        "data = pd.read_csv('City_zori_uc_sfrcondomfr_sm_month.csv')"
      ],
      "id": "8kHGwg5Obv4P"
    },
    {
      "cell_type": "markdown",
      "metadata": {
        "id": "7FvZGUwZbv4P"
      },
      "source": [
        "### **Question 1: Which state has the highest average rent?**   \n",
        "1. To find the state with the highest average rent and also the corresponding rent value, first, identify the most recent date (`columns[-1]`) from the data set, which is October 2023.  \n",
        "2. Second, initialize a dictionary to hold the total rent values for each state.  \n",
        "3. Then, since we want to perform operations on each row of the data, we will use `iterrows()` in the for loop to iterate over each data frame row, which will yield an index and row data.  \n",
        "4. The for loop will get the state and rent. If the rent is already in the dictionary `rent_sums`, it will add the rent value, else, it will initialize a new value."
      ],
      "id": "7FvZGUwZbv4P"
    },
    {
      "cell_type": "code",
      "execution_count": null,
      "metadata": {
        "id": "hoKhUci5bv4Q"
      },
      "outputs": [],
      "source": [
        "most_recent = data.columns[-1]\n",
        "\n",
        "# initialize dictionary\n",
        "rent_sums = {}\n",
        "\n",
        "# for each row in the data...\n",
        "for index, row in data.iterrows():\n",
        "    # get state and most recent rent\n",
        "    state = row['State']\n",
        "    rent = row[most_recent]\n",
        "\n",
        "    # if the rent is already in dictionary add\n",
        "    if state in rent_sums:\n",
        "        rent_sums[state] += rent\n",
        "\n",
        "    # else initialize\n",
        "    else:\n",
        "        rent_sums[state] = rent"
      ],
      "id": "hoKhUci5bv4Q"
    },
    {
      "cell_type": "markdown",
      "metadata": {
        "id": "bKtOdsDkbv4Q"
      },
      "source": [
        "5. Once the rent sum of each state is calculated, calculate the average rent for each state.\n",
        "6. First, count the number of unique cities for each state with `value_counts()` and then initialize a dictionary to hold the average state rents.  \n",
        "7. Then, in a for loop, for each state in the rent_sums dictionary, calculate the total rent, get the count of unique cities, calculate the average rent, and store the average rent in the `avg_state_rent` dictionary.\n",
        "8. For the final step, the state (max key) and the corresponding rent value, then print out the results.\n"
      ],
      "id": "bKtOdsDkbv4Q"
    },
    {
      "cell_type": "code",
      "execution_count": null,
      "metadata": {
        "id": "vXP6_VAkbv4Q",
        "outputId": "4bf9ad2b-5bfe-4258-b396-1bd0d352e6f1",
        "colab": {
          "base_uri": "https://localhost:8080/"
        }
      },
      "outputs": [
        {
          "output_type": "stream",
          "name": "stdout",
          "text": [
            "The state with the highest average rent is NY with an average rent of $6153.50\n"
          ]
        }
      ],
      "source": [
        "# count the number of unique \"cities\" for each state with value_counts()\n",
        "state_rent_count = data['State'].value_counts()\n",
        "\n",
        "# initialize dictionary\n",
        "avg_state_rent = {}\n",
        "\n",
        "# for each state in rent_sums...\n",
        "for state in rent_sums:\n",
        "    total_rent = rent_sums[state] # total rent for state\n",
        "    city_count = state_rent_count[state] # get the count (number of cities) for state\n",
        "    avg_rent = total_rent / city_count # calculate the average rent\n",
        "    avg_state_rent[state] = avg_rent # store info in dictionary\n",
        "\n",
        "# highest rent state and the average rent value\n",
        "highest_rent_state = max(avg_state_rent, key = avg_state_rent.get)\n",
        "highest_avg_rent = max(avg_state_rent.values())\n",
        "\n",
        "print(f\"The state with the highest average rent is {highest_rent_state} with an average rent of ${highest_avg_rent:.2f}\")"
      ],
      "id": "vXP6_VAkbv4Q"
    },
    {
      "cell_type": "markdown",
      "source": [
        "### **Question 2: What state has the lowest average rent?**  \n",
        "1."
      ],
      "metadata": {
        "id": "qFyghamCjIlh"
      },
      "id": "qFyghamCjIlh"
    },
    {
      "cell_type": "code",
      "source": [
        "lowest_rent_state = min(avg_state_rent, key = avg_state_rent.get)\n",
        "lowest_avg_rent = min(avg_state_rent.values())\n",
        "\n",
        "print(f\"The state with the lowest average rent is {lowest_rent_state} with an average rent of ${lowest_avg_rent:.2f}\")"
      ],
      "metadata": {
        "colab": {
          "base_uri": "https://localhost:8080/"
        },
        "id": "M-ojtyHBjTcH",
        "outputId": "9897cf9e-aea6-498e-8a68-335b2dc1c9e8"
      },
      "id": "M-ojtyHBjTcH",
      "execution_count": null,
      "outputs": [
        {
          "output_type": "stream",
          "name": "stdout",
          "text": [
            "The state with the lowest average rent is ND with an average rent of $936.70\n"
          ]
        }
      ]
    },
    {
      "cell_type": "markdown",
      "metadata": {
        "id": "2J_iZpMIbv4R"
      },
      "source": [
        "### **Question 3: What are the top 5 US cities with the highest rent prices?**\n",
        "1. To find the top 5 US cities with the highest rent prices, first use the pandas `sort_values()` to sort the data in descending order.\n",
        "2. Then, use the data frame `head(5)` to retrieve the first 5 rows of the sorted data.\n",
        "3. Finally, in a for loop using `iterrows()` again, print out only the `RegionName` (City), `State`, and the most recent rent price."
      ],
      "id": "2J_iZpMIbv4R"
    },
    {
      "cell_type": "code",
      "execution_count": null,
      "metadata": {
        "id": "HEm5QRKgbv4R",
        "outputId": "788bdbd5-5ed9-4964-ee1b-4b69c8fa3d07",
        "colab": {
          "base_uri": "https://localhost:8080/"
        }
      },
      "outputs": [
        {
          "output_type": "stream",
          "name": "stdout",
          "text": [
            "The top 5 US cities with the highest rent prices are:\n",
            "Sagaponack, NY: $70166.50\n",
            "Amagansett, NY: $66875.00\n",
            "Bridgehampton, NY: $60000.00\n",
            "Wainscott, NY: $45000.00\n",
            "Water Mill, NY: $40000.00\n"
          ]
        }
      ],
      "source": [
        "# sort data by most_recent in descending order\n",
        "sort_data = data.sort_values(by=most_recent, ascending=False)\n",
        "\n",
        "# get the top 5 using data frame head(5)\n",
        "top_5_highest = sort_data.head(5)\n",
        "\n",
        "print(\"The top 5 US cities with the highest rent prices are:\")\n",
        "\n",
        "# for each, only print RegionName, State, and rent\n",
        "for index, row in top_5_highest.iterrows():\n",
        "    print(f\"{row['RegionName']}, {row['State']}: ${row[most_recent]:.2f}\")\n"
      ],
      "id": "HEm5QRKgbv4R"
    },
    {
      "cell_type": "markdown",
      "metadata": {
        "id": "xSaJu532bv4R"
      },
      "source": [
        "### **Question 4: Are there noticeable patterns in the rent prices over the years?**  \n",
        "1. This question is looking to find the overall percent change in rent price from the first record in 2015 to the most current data available (2023-10-31).  \n",
        "2. First, we would calculate the percent change in rent for each city. The general formula to calculate percent change is ((final value - initial value) / initial value) * 100. In this case, the initial value would be `2015-01-31`.  \n",
        "3. Then, calculate the overall change in rent for all cities. To do so, use `mean()` to calculate the average overall change in rent for all cities."
      ],
      "id": "xSaJu532bv4R"
    },
    {
      "cell_type": "code",
      "execution_count": null,
      "metadata": {
        "id": "iYkjWUPDbv4R",
        "outputId": "1a66798e-7769-48c2-9120-9053857fcd68",
        "colab": {
          "base_uri": "https://localhost:8080/"
        }
      },
      "outputs": [
        {
          "output_type": "stream",
          "name": "stdout",
          "text": [
            "The overall percent change in rent for all cities is 70.30%\n"
          ]
        }
      ],
      "source": [
        "# calculate the percent change in rent for each city\n",
        "initial_rent = data['2015-01-31']\n",
        "final_rent = data[most_recent]\n",
        "\n",
        "percent_change_rent = ((final_rent - initial_rent) / initial_rent) * 100\n",
        "\n",
        "# calculate the overall change in rent for all cities\n",
        "overall_change = percent_change_rent.mean()\n",
        "\n",
        "print(f\"The overall percent change in rent for all cities is {overall_change:.2f}%\")"
      ],
      "id": "iYkjWUPDbv4R"
    },
    {
      "cell_type": "markdown",
      "id": "2da0d3af",
      "metadata": {
        "id": "2da0d3af"
      },
      "source": [
        "### **Question 5: What is the change in average rent in State College, PA for the past year?**\n",
        "1. We want to calculate the change in average rent prices in State College, PA from `2022-10-31` to `2023-10-31` (most current data).  \n",
        "2. First, locate the data for State College by using `loc[]`.  \n",
        "3. Once the data is located, the rent data for `2022-10-31` and `2023-10-31` is extracted using `iloc[]`.\n",
        "4. Now, calculate the percent change in rent and the rent amount change for State College."
      ]
    },
    {
      "cell_type": "code",
      "execution_count": null,
      "id": "ee1424b7",
      "metadata": {
        "id": "ee1424b7",
        "outputId": "c2309227-a925-41f1-ee60-862fce3ff5b4",
        "colab": {
          "base_uri": "https://localhost:8080/"
        }
      },
      "outputs": [
        {
          "output_type": "stream",
          "name": "stdout",
          "text": [
            "The percent change in average rent in State College, PA from 2022-10-31 to 2023-10-31 is 3.58%\n",
            "The average change in rent is $61.67\n"
          ]
        }
      ],
      "source": [
        "# find the data for State College\n",
        "state_college_info =  data.loc[data['RegionName'] == 'State College']\n",
        "\n",
        "# extract data using .loc[]\n",
        "rent_oct_2022 = state_college_info['2022-10-31'].iloc[0]\n",
        "rent_current = state_college_info[most_recent].iloc[0]\n",
        "\n",
        "# calculate percent change and rent amount change\n",
        "pct_change_state_college = ((rent_current - rent_oct_2022) / rent_oct_2022) * 100\n",
        "rent_change_state_college = rent_current - rent_oct_2022\n",
        "\n",
        "print(f\"The percent change in average rent in State College, PA from 2022-10-31 to 2023-10-31 is {pct_change_state_college:.2f}%\")\n",
        "print(f\"The average change in rent is ${rent_change_state_college:.2f}\")"
      ]
    },
    {
      "cell_type": "markdown",
      "id": "c4ebcdc5",
      "metadata": {
        "id": "c4ebcdc5"
      },
      "source": [
        "### **Question 6:** What is the most expensive metropolitan area?\n",
        "1. First, group the data by the column 'Metro' while selecting the column 'most_recent,' and obtain the average value by using `mean()`\n",
        "2. Sort the grouped values in descending order using `sort_values()`\n",
        "3. Assign the highest sorted value to the variable head.\n",
        "4. Print the head variable and the cost."
      ]
    },
    {
      "cell_type": "code",
      "execution_count": null,
      "id": "8dcb2abe",
      "metadata": {
        "id": "8dcb2abe",
        "colab": {
          "base_uri": "https://localhost:8080/"
        },
        "outputId": "3bfc55a1-aa21-4cf9-a640-57ed9fdd7d2c"
      },
      "outputs": [
        {
          "output_type": "stream",
          "name": "stdout",
          "text": [
            "The most expensive metropolitan area is Glenwood Springs, CO\n",
            "The cost of the most expensive metropolitan area is $10,416.5\n"
          ]
        }
      ],
      "source": [
        "group = data.groupby('Metro')[most_recent].mean()\n",
        "sorted = group.sort_values(ascending = False)\n",
        "head = sorted.head(1)\n",
        "print(f\"The most expensive metropolitan area is {head.index[0]}\")\n",
        "print(f\"The cost of the most expensive metropolitan area is ${head[head.index[0]]:,.1f}\")"
      ]
    }
  ],
  "metadata": {
    "kernelspec": {
      "display_name": "Python 3",
      "language": "python",
      "name": "python3"
    },
    "language_info": {
      "codemirror_mode": {
        "name": "ipython",
        "version": 3
      },
      "file_extension": ".py",
      "mimetype": "text/x-python",
      "name": "python",
      "nbconvert_exporter": "python",
      "pygments_lexer": "ipython3",
      "version": "3.10.13"
    },
    "colab": {
      "provenance": []
    }
  },
  "nbformat": 4,
  "nbformat_minor": 5
}